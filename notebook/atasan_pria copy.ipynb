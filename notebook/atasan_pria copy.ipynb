{
 "cells": [
  {
   "cell_type": "code",
   "execution_count": 11,
   "metadata": {},
   "outputs": [],
   "source": [
    "from selenium import webdriver\n",
    "from selenium.webdriver.common.by import By\n",
    "from selenium.webdriver.support.ui import WebDriverWait\n",
    "from selenium.webdriver.support import expected_conditions as EC\n",
    "from selenium.common.exceptions import NoSuchElementException, StaleElementReferenceException\n",
    "import pandas as pd\n",
    "import time\n",
    "from selenium.webdriver.chrome.options import Options\n",
    "import undetected_chromedriver as uc\n",
    "from selenium import webdriver\n",
    "from selenium.webdriver.common.keys import Keys\n",
    "import re"
   ]
  },
  {
   "cell_type": "code",
   "execution_count": 13,
   "metadata": {},
   "outputs": [],
   "source": [
    "driver = uc.Chrome()"
   ]
  },
  {
   "cell_type": "code",
   "execution_count": 14,
   "metadata": {},
   "outputs": [],
   "source": [
    "df = pd.read_csv('atasan_pria.csv')"
   ]
  },
  {
   "cell_type": "code",
   "execution_count": 15,
   "metadata": {},
   "outputs": [
    {
     "data": {
      "text/plain": [
       "'https://ta.tokopedia.com/promo/v1/clicks/8a-xgVY2gmUEHsJpHAHdHsrpbm-xgVY789CBUsthbm-Orfua9fBjUstiHmUDUSoBrRo2QfNwq3ei6i-CQ_VFzsCuZfHpoB2de1ga8cxO1juq_OV5oOzA_IPizjWiuVtd31OAqB4N33H7e9-NeMzFPjUaejNU9foG8BHh1JBC1VoRP_HWzJBGz1hkoMPcujtFZ7VV33OOqurpu3xx1SViyfzvqczC_9JOH72v1AC68jydoJPpgVuzySPuPZUDUSz2Q31i6sJRHsUpHsKFosrDUMoFyaUEHp1OHmFircYpq9z2Qfdi6sJDUMVDgaUEUMoxPcuSQR-N9f-N9RCaQfzOyReibm-XP3Oig9-wQfgwy3zpUsthoZFiQSuWyMua9fVjrOYag9Ji6sJObm-sy9zwq3zpUs2QH_rO6ZFhopK7bAHOopBPbm-X9foxQMz2gcV7guYxgIHi6sJ7HmFiy3-wPcupPmUEUjdibm-FQRo79fVDgaUEUMzBgiUDUSgBrSo2Qfdi6i-fHiUDUMVj9RosQR-BUstpopjXosnFoA1hH_K7o_rao_HDUSHp9fh5gaUEUMuNZM2jZJ2M33NGPMep_Mh-qMY2_1H7oJNJ__CvzVjF_uzCHJY13_ooucD7Z3BRqujp1SByH7ND3uxGqMVAZ_g-qjuO_7zVoJO1gRxvzJ17_uzS8JYJz_zo17BpZ3O7QcuygIgsQu-Myp-6PMoWu3Bvq1BRZ3BRq3-W69ugHBu2_fBGqJN9Z_VqzOg23MjF8JOk_M2HuV-0_OzuPJYJZ_C68_Cd3_--HBBEgRx68Mx2392zq1hAZSgsQ3hXyurOgB2IuSPyHMh0Z325q1OAZ9o-Q_BNyuPjrc-D69PsQ_B0gVP6HVKaQcW-qMY2_1o-r7BW69BxufzFyMFN8MVI69PyHMh0Z325q1OAZ9o-Qjyh3BxGouKp1MxqH7O2_fBGgjO1ypz6zsxR3I2mgjOc63gozsxR3I2mgjOAZ9o-QjNkysoGQVKaZSBiHfzE3Bo-ojBk__ov1pea_1zCHJN1z9xvzVJh_S2-H1ONZ9o-QjNkysoGQVKp_Mhg3J2ky1o-ojBk1_C61pep_uzVHJYJZ92vuJ1h_7zgH1BXHA7ibm-sQIupPcua9fBj9RyaUst7oAHfoZFirI-2yfuwyMBjUstpo_1Fbm-SQfVD9fBjUstpwe?src=directory&pub_domain=0&dv=desktop&t=desktop&r=https%3A%2F%2Fwww.tokopedia.com%2Ffatgoods%2Fkemeja-work-shirt-fatgoods-bigsize-cotton-ripstop-machine-hitam-xl-49adb%3Fsrc%3Dtopads&management_type=2&pub_id=0&page=1&pub_unit=0&ob=5'"
      ]
     },
     "execution_count": 15,
     "metadata": {},
     "output_type": "execute_result"
    }
   ],
   "source": [
    "df['Link'][0]"
   ]
  },
  {
   "cell_type": "code",
   "execution_count": 16,
   "metadata": {},
   "outputs": [],
   "source": [
    "dct_data = {\n",
    "    \"nama_toko\": [],\n",
    "    \"daerah_toko\": [],\n",
    "    \"jumlah_terjual\": [],\n",
    "    \"stok_tersisa\": []\n",
    "}"
   ]
  },
  {
   "cell_type": "code",
   "execution_count": 17,
   "metadata": {},
   "outputs": [],
   "source": [
    "def stock_finder(p_stok, stok_total):\n",
    "    res_stok = p_stok.find_elements(By.CSS_SELECTOR, 'b')[0].text\n",
    "    res_stok = re.sub(r'\\D', '', res_stok)\n",
    "    if res_stok == '':\n",
    "        res_stok = 0\n",
    "    else:\n",
    "        res_stok = int(res_stok)\n",
    "    print(res_stok)\n",
    "    stok_total += res_stok\n",
    "\n",
    "    return stok_total"
   ]
  },
  {
   "cell_type": "code",
   "execution_count": 18,
   "metadata": {},
   "outputs": [
    {
     "name": "stdout",
     "output_type": "stream",
     "text": [
      "Error loading page after 5 try time\n"
     ]
    }
   ],
   "source": [
    "for link in df['Link']:\n",
    "    #Try if the web is still not ready\n",
    "    try_time = 5\n",
    "    for i in range(try_time):\n",
    "        try:    \n",
    "            driver.get(link)\n",
    "            time.sleep(4)\n",
    "\n",
    "            # Nama Toko data\n",
    "            h2_nama_toko = driver.find_element(By.XPATH, '//h2[@class=\"css-1wdzqxj-unf-heading e1qvo2ff2\"]')\n",
    "            break\n",
    "        except:\n",
    "            try_time -= 1\n",
    "    if try_time == 0:\n",
    "        print(f'Error loading page after 5 try time')\n",
    "        break\n",
    "    \n",
    "    dct_data['nama_toko'].append(h2_nama_toko.text)\n",
    "\n",
    "    # Daerah Data\n",
    "    h2_daerah = driver.find_element(By.XPATH, '//h2[@class=\"css-1pd07ge-unf-heading e1qvo2ff2\"]')\n",
    "    h2_daerah.find_elements(By.CSS_SELECTOR, 'b')[0].text\n",
    "\n",
    "    dct_data['daerah_toko'].append(h2_nama_toko.text)\n",
    "\n",
    "    # Terjual Data\n",
    "    try:\n",
    "        p_sold = driver.find_element(By.XPATH, '//p[@data-testid=\"lblPDPDetailProductSoldCounter\"]')\n",
    "\n",
    "        sold_val = int(re.sub(r'\\D', '', p_sold.text)) \n",
    "    except:\n",
    "        sold_val = 0\n",
    "\n",
    "    dct_data['jumlah_terjual'].append(sold_val)\n",
    "    \n",
    "    # Stok Data\n",
    "    try:\n",
    "        div_variant = driver.find_element(By.XPATH, '//div[@class=\"css-1b2d3hk\"]')\n",
    "        parent_level_div = div_variant.find_elements(By.CSS_SELECTOR, 'div')\n",
    "        all_level_div = [x for x in parent_level_div if x.get_attribute('class')=='css-hayuji']\n",
    "\n",
    "        len_level1 = len(all_level_div[0].find_elements(By.CSS_SELECTOR, 'button'))\n",
    "\n",
    "        stok_total = 0\n",
    "        for el_level1 in all_level_div[0].find_elements(By.CSS_SELECTOR, 'button'):\n",
    "            el_level1.click()\n",
    "\n",
    "            if len(all_level_div) >= 2:\n",
    "                for el_level2 in all_level_div[1].find_elements(By.CSS_SELECTOR, 'button'):\n",
    "                    el_level2.click()\n",
    "                    p_stok = driver.find_element(By.XPATH, '//p[@class=\"css-1yy88m3-unf-heading e1qvo2ff8\"]')\n",
    "                    stok_total = stock_finder(p_stok, stok_total)\n",
    "\n",
    "            else:\n",
    "                p_stok = driver.find_element(By.XPATH, '//p[@class=\"css-1yy88m3-unf-heading e1qvo2ff8\"]')\n",
    "                stok_total = stock_finder(p_stok, stok_total)\n",
    "    except:\n",
    "        p_stok = driver.find_element(By.XPATH, '//p[@class=\"css-1yy88m3-unf-heading e1qvo2ff8\"]')\n",
    "        stok_total = stock_finder(p_stok, stok_total)\n",
    "    \n",
    "\n",
    "    dct_data['stok_tersisa'].append(stok_total)\n",
    "    "
   ]
  },
  {
   "cell_type": "code",
   "execution_count": 39,
   "metadata": {},
   "outputs": [],
   "source": [
    "driver.get(\"https://www.tokopedia.com/optikjuni/frame-kacamata-kayu-pria-ringan-minus-anti-radiasi-fashion-polarize-46-satu-warna-blue-ray?extParam=ivf%3Dfalse\")\n",
    "# driver.get(\"https://www.tokopedia.com/liquorfashion/kacamata-bridges-kacamata-hitam-wanita-severn-s-bi-bv-severn-45-55?extParam=ivf%3Dfalse\")\n"
   ]
  },
  {
   "cell_type": "code",
   "execution_count": null,
   "metadata": {},
   "outputs": [],
   "source": []
  },
  {
   "cell_type": "code",
   "execution_count": 40,
   "metadata": {},
   "outputs": [
    {
     "name": "stdout",
     "output_type": "stream",
     "text": [
      "750\n"
     ]
    }
   ],
   "source": [
    "try:\n",
    "    p_sold = driver.find_element(By.XPATH, '//p[@data-testid=\"lblPDPDetailProductSoldCounter\"]')\n",
    "    import re\n",
    "\n",
    "    cleaned_text = re.sub(r'\\D', '', p_sold.text)  # \\D matches any non-digit character\n",
    "    print(int(cleaned_text))\n",
    "except:\n",
    "    print('Sold not found')\n",
    "    cleaned_text = 0\n",
    "    print(cleaned_text)\n"
   ]
  },
  {
   "cell_type": "code",
   "execution_count": 41,
   "metadata": {},
   "outputs": [],
   "source": [
    "h2_nama_toko = driver.find_element(By.XPATH, '//h2[@class=\"css-1wdzqxj-unf-heading e1qvo2ff2\"]')"
   ]
  },
  {
   "cell_type": "code",
   "execution_count": 42,
   "metadata": {},
   "outputs": [
    {
     "data": {
      "text/plain": [
       "'Optik Juni'"
      ]
     },
     "execution_count": 42,
     "metadata": {},
     "output_type": "execute_result"
    }
   ],
   "source": [
    "h2_nama_toko.text"
   ]
  },
  {
   "cell_type": "code",
   "execution_count": 43,
   "metadata": {},
   "outputs": [
    {
     "data": {
      "text/plain": [
       "'Jakarta Pusat'"
      ]
     },
     "execution_count": 43,
     "metadata": {},
     "output_type": "execute_result"
    }
   ],
   "source": [
    "h2_daerah = driver.find_element(By.XPATH, '//h2[@class=\"css-1pd07ge-unf-heading e1qvo2ff2\"]')\n",
    "\n",
    "h2_daerah.find_elements(By.CSS_SELECTOR, 'b')[0].text"
   ]
  },
  {
   "cell_type": "code",
   "execution_count": 44,
   "metadata": {},
   "outputs": [],
   "source": [
    "p_stok = driver.find_element(By.XPATH, '//p[@class=\"css-1yy88m3-unf-heading e1qvo2ff8\"]')\n"
   ]
  },
  {
   "cell_type": "code",
   "execution_count": 47,
   "metadata": {},
   "outputs": [
    {
     "data": {
      "text/plain": [
       "499"
      ]
     },
     "execution_count": 47,
     "metadata": {},
     "output_type": "execute_result"
    }
   ],
   "source": [
    "res_stok = p_stok.find_elements(By.CSS_SELECTOR, 'b')[0].text\n",
    "res_stok = re.sub(r'\\D', '', res_stok)\n",
    "if res_stok == '':\n",
    "    res_stok = 0\n",
    "else:\n",
    "    res_stok = int(res_stok)\n",
    "res_stok"
   ]
  },
  {
   "cell_type": "code",
   "execution_count": 69,
   "metadata": {},
   "outputs": [],
   "source": [
    "#IF\n",
    "div_variant = driver.find_element(By.XPATH, '//div[@class=\"css-1b2d3hk\"]')"
   ]
  },
  {
   "cell_type": "code",
   "execution_count": 73,
   "metadata": {},
   "outputs": [],
   "source": [
    "parent_level_div = div_variant.find_elements(By.CSS_SELECTOR, 'div')\n",
    "all_level_div = [x for x in parent_level_div if x.get_attribute('class')=='css-hayuji']"
   ]
  },
  {
   "cell_type": "code",
   "execution_count": 75,
   "metadata": {},
   "outputs": [
    {
     "data": {
      "text/plain": [
       "2"
      ]
     },
     "execution_count": 75,
     "metadata": {},
     "output_type": "execute_result"
    }
   ],
   "source": [
    "len(all_level_div)"
   ]
  },
  {
   "cell_type": "code",
   "execution_count": 83,
   "metadata": {},
   "outputs": [],
   "source": [
    "def stock_finder(p_stok, stok_total):\n",
    "    res_stok = p_stok.find_elements(By.CSS_SELECTOR, 'b')[0].text\n",
    "    res_stok = re.sub(r'\\D', '', res_stok)\n",
    "    if res_stok == '':\n",
    "        res_stok = 0\n",
    "    else:\n",
    "        res_stok = int(res_stok)\n",
    "    print(res_stok)\n",
    "    stok_total += res_stok\n",
    "\n",
    "    return stok_total"
   ]
  },
  {
   "cell_type": "code",
   "execution_count": 84,
   "metadata": {},
   "outputs": [
    {
     "name": "stdout",
     "output_type": "stream",
     "text": [
      "493\n",
      "497\n",
      "496\n",
      "497\n",
      "499\n",
      "498\n",
      "500\n",
      "500\n",
      "20\n",
      "0\n",
      "0\n",
      "0\n",
      "0\n",
      "0\n",
      "0\n",
      "0\n",
      "0\n",
      "0\n"
     ]
    }
   ],
   "source": [
    "len_level1 = len(all_level_div[0].find_elements(By.CSS_SELECTOR, 'button'))\n",
    "\n",
    "stok_total = 0\n",
    "for el_level1 in all_level_div[0].find_elements(By.CSS_SELECTOR, 'button'):\n",
    "    el_level1.click()\n",
    "\n",
    "    if len(all_level_div) >= 2:\n",
    "        for el_level2 in all_level_div[1].find_elements(By.CSS_SELECTOR, 'button'):\n",
    "            el_level2.click()\n",
    "            stok_total = stock_finder(p_stok, stok_total)\n",
    "\n",
    "    else:\n",
    "        res_stok = p_stok.find_elements(By.CSS_SELECTOR, 'b')[0].text\n",
    "        res_stok = re.sub(r'\\D', '', res_stok)\n",
    "        if res_stok == '':\n",
    "            res_stok = 0\n",
    "        else:\n",
    "            res_stok = int(res_stok)\n",
    "        print(res_stok)\n",
    "        stok_total = stock_finder(p_stok, stok_total)\n",
    "\n",
    "            "
   ]
  },
  {
   "cell_type": "code",
   "execution_count": 85,
   "metadata": {},
   "outputs": [
    {
     "data": {
      "text/plain": [
       "4000"
      ]
     },
     "execution_count": 85,
     "metadata": {},
     "output_type": "execute_result"
    }
   ],
   "source": [
    "stok_total"
   ]
  },
  {
   "cell_type": "markdown",
   "metadata": {},
   "source": []
  },
  {
   "cell_type": "code",
   "execution_count": null,
   "metadata": {},
   "outputs": [],
   "source": []
  }
 ],
 "metadata": {
  "kernelspec": {
   "display_name": "Python 3",
   "language": "python",
   "name": "python3"
  },
  "language_info": {
   "codemirror_mode": {
    "name": "ipython",
    "version": 3
   },
   "file_extension": ".py",
   "mimetype": "text/x-python",
   "name": "python",
   "nbconvert_exporter": "python",
   "pygments_lexer": "ipython3",
   "version": "3.9.6"
  }
 },
 "nbformat": 4,
 "nbformat_minor": 2
}
