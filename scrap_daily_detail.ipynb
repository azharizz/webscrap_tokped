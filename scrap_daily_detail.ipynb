{
 "cells": [
  {
   "cell_type": "code",
   "execution_count": 22,
   "metadata": {},
   "outputs": [],
   "source": [
    "from selenium import webdriver\n",
    "from selenium.webdriver.common.by import By\n",
    "from selenium.webdriver.support.ui import WebDriverWait\n",
    "from selenium.webdriver.support import expected_conditions as EC\n",
    "from selenium.common.exceptions import NoSuchElementException, StaleElementReferenceException\n",
    "import pandas as pd\n",
    "import time\n",
    "from selenium.webdriver.chrome.options import Options\n",
    "import undetected_chromedriver as uc\n",
    "from selenium import webdriver\n",
    "from selenium.webdriver.common.keys import Keys\n",
    "import re"
   ]
  },
  {
   "cell_type": "code",
   "execution_count": 25,
   "metadata": {},
   "outputs": [
    {
     "data": {
      "text/plain": [
       "True"
      ]
     },
     "execution_count": 25,
     "metadata": {},
     "output_type": "execute_result"
    }
   ],
   "source": [
    "from selenium import webdriver\n",
    "from selenium_stealth import stealth\n",
    "import time\n",
    "\n",
    "options = webdriver.ChromeOptions()\n",
    "options.add_argument(\"start-maximized\")\n",
    "\n",
    "options.add_argument(\"--headless\")\n",
    "\n",
    "options.add_experimental_option(\"excludeSwitches\", [\"enable-automation\"])\n",
    "options.add_experimental_option('useAutomationExtension', False)\n",
    "driver = webdriver.Chrome(options=options)\n",
    "# driver = uc.Chrome(options=options)\n",
    "\n",
    "stealth(driver,\n",
    "        languages=[\"en-US\", \"en\"],\n",
    "        vendor=\"Google Inc.\",\n",
    "        platform=\"Win32\",\n",
    "        webgl_vendor=\"Intel Inc.\",\n",
    "        renderer=\"Intel Iris OpenGL Engine\",\n",
    "        fix_hairline=True,\n",
    "        )\n",
    "\n",
    "driver.get('https://www.tokopedia.com')\n",
    "driver.save_screenshot('screenshot.png')"
   ]
  },
  {
   "cell_type": "code",
   "execution_count": 3,
   "metadata": {},
   "outputs": [],
   "source": [
    "# driver = uc.Chrome()\n",
    "# driver = uc.Chrome(options=chrome_options)\n",
    "# driver = webdriver.Chrome(options=chrome_options)"
   ]
  },
  {
   "cell_type": "code",
   "execution_count": 26,
   "metadata": {},
   "outputs": [],
   "source": [
    "df = pd.read_csv('all_clean_scrap.csv')"
   ]
  },
  {
   "cell_type": "code",
   "execution_count": 36,
   "metadata": {},
   "outputs": [],
   "source": [
    "df = df[df['category'].isin(['aksesoris_pria', 'atasan_pria'])][1:5]"
   ]
  },
  {
   "cell_type": "code",
   "execution_count": 39,
   "metadata": {},
   "outputs": [
    {
     "data": {
      "text/html": [
       "<div>\n",
       "<style scoped>\n",
       "    .dataframe tbody tr th:only-of-type {\n",
       "        vertical-align: middle;\n",
       "    }\n",
       "\n",
       "    .dataframe tbody tr th {\n",
       "        vertical-align: top;\n",
       "    }\n",
       "\n",
       "    .dataframe thead th {\n",
       "        text-align: right;\n",
       "    }\n",
       "</style>\n",
       "<table border=\"1\" class=\"dataframe\">\n",
       "  <thead>\n",
       "    <tr style=\"text-align: right;\">\n",
       "      <th></th>\n",
       "      <th>index</th>\n",
       "      <th>Nama</th>\n",
       "      <th>Harga</th>\n",
       "      <th>Link</th>\n",
       "      <th>category</th>\n",
       "      <th>gender</th>\n",
       "    </tr>\n",
       "  </thead>\n",
       "  <tbody>\n",
       "    <tr>\n",
       "      <th>1</th>\n",
       "      <td>1</td>\n",
       "      <td>FRAME KACAMATA VHERKUDARA KHUMA</td>\n",
       "      <td>944000</td>\n",
       "      <td>https://ta.tokopedia.com/promo/v1/clicks/8a-xg...</td>\n",
       "      <td>aksesoris_pria</td>\n",
       "      <td>pria</td>\n",
       "    </tr>\n",
       "    <tr>\n",
       "      <th>2</th>\n",
       "      <td>2</td>\n",
       "      <td>SHERY Nosepad Kacamata Bantalan Penyangga Hidu...</td>\n",
       "      <td>12900</td>\n",
       "      <td>https://ta.tokopedia.com/promo/v1/clicks/8a-xg...</td>\n",
       "      <td>aksesoris_pria</td>\n",
       "      <td>pria</td>\n",
       "    </tr>\n",
       "    <tr>\n",
       "      <th>3</th>\n",
       "      <td>3</td>\n",
       "      <td>GESPER GASPER BELT IKAT PINGGANG KULIT PRIA AS...</td>\n",
       "      <td>150000</td>\n",
       "      <td>https://ta.tokopedia.com/promo/v1/clicks/8a-xg...</td>\n",
       "      <td>aksesoris_pria</td>\n",
       "      <td>pria</td>\n",
       "    </tr>\n",
       "    <tr>\n",
       "      <th>4</th>\n",
       "      <td>4</td>\n",
       "      <td>Ikat Pinggang Pria Gesper Nylon Canvas Sabuk</td>\n",
       "      <td>110000</td>\n",
       "      <td>https://ta.tokopedia.com/promo/v1/clicks/8a-xg...</td>\n",
       "      <td>aksesoris_pria</td>\n",
       "      <td>pria</td>\n",
       "    </tr>\n",
       "  </tbody>\n",
       "</table>\n",
       "</div>"
      ],
      "text/plain": [
       "   index                                               Nama   Harga  \\\n",
       "1      1                    FRAME KACAMATA VHERKUDARA KHUMA  944000   \n",
       "2      2  SHERY Nosepad Kacamata Bantalan Penyangga Hidu...   12900   \n",
       "3      3  GESPER GASPER BELT IKAT PINGGANG KULIT PRIA AS...  150000   \n",
       "4      4       Ikat Pinggang Pria Gesper Nylon Canvas Sabuk  110000   \n",
       "\n",
       "                                                Link        category gender  \n",
       "1  https://ta.tokopedia.com/promo/v1/clicks/8a-xg...  aksesoris_pria   pria  \n",
       "2  https://ta.tokopedia.com/promo/v1/clicks/8a-xg...  aksesoris_pria   pria  \n",
       "3  https://ta.tokopedia.com/promo/v1/clicks/8a-xg...  aksesoris_pria   pria  \n",
       "4  https://ta.tokopedia.com/promo/v1/clicks/8a-xg...  aksesoris_pria   pria  "
      ]
     },
     "execution_count": 39,
     "metadata": {},
     "output_type": "execute_result"
    }
   ],
   "source": [
    "df"
   ]
  },
  {
   "cell_type": "code",
   "execution_count": 40,
   "metadata": {},
   "outputs": [],
   "source": [
    "driver.get('https://www.tokopedia.com')"
   ]
  },
  {
   "cell_type": "code",
   "execution_count": 41,
   "metadata": {},
   "outputs": [],
   "source": [
    "from selenium.webdriver.support.ui import WebDriverWait\n",
    "from selenium.webdriver.support import expected_conditions as EC"
   ]
  },
  {
   "cell_type": "code",
   "execution_count": 42,
   "metadata": {},
   "outputs": [],
   "source": [
    "dct_data = {\n",
    "    \"nama_toko\": [],\n",
    "    \"daerah_toko\": [],\n",
    "    \"jumlah_terjual\": [],\n",
    "    \"stok_tersisa\": []\n",
    "}"
   ]
  },
  {
   "cell_type": "code",
   "execution_count": 43,
   "metadata": {},
   "outputs": [],
   "source": [
    "def stock_finder(p_stok, stok_total):\n",
    "    res_stok = p_stok.find_elements(By.CSS_SELECTOR, 'b')[0].text\n",
    "    res_stok = re.sub(r'\\D', '', res_stok)\n",
    "    if res_stok == '':\n",
    "        res_stok = 0\n",
    "    else:\n",
    "        res_stok = int(res_stok)\n",
    "    stok_total += res_stok\n",
    "\n",
    "    return stok_total"
   ]
  },
  {
   "cell_type": "code",
   "execution_count": 44,
   "metadata": {},
   "outputs": [
    {
     "name": "stdout",
     "output_type": "stream",
     "text": [
      "counter now 0\n",
      "counter now 1\n",
      "counter now 2\n",
      "counter now 3\n"
     ]
    }
   ],
   "source": [
    "index_stopped=0\n",
    "counter = 0\n",
    "for link in df['Link']:\n",
    "    print('counter now', counter)\n",
    "    if counter < index_stopped:\n",
    "        counter += 1\n",
    "        continue\n",
    "    else:\n",
    "        counter += 1\n",
    "\n",
    "    # EARLY STOP\n",
    "    if counter == 10:\n",
    "        break\n",
    "\n",
    "    #Try if the web is still not ready\n",
    "    try_time = 5\n",
    "    for i in range(try_time):\n",
    "        try:    \n",
    "            driver.get(link)\n",
    "            time.sleep(2)\n",
    "\n",
    "            # Nama Toko data\n",
    "            h2_nama_toko = driver.find_element(By.XPATH, '//h2[@class=\"css-1wdzqxj-unf-heading e1qvo2ff2\"]')\n",
    "            break\n",
    "        except:\n",
    "            try_time -= 1\n",
    "    if try_time == 0:\n",
    "        print(f'Error loading page after 5 try time')\n",
    "        continue\n",
    "    \n",
    "    dct_data['nama_toko'].append(h2_nama_toko.text)\n",
    "\n",
    "\n",
    "    # Daerah Data\n",
    "    try:\n",
    "        h2_daerah = driver.find_element(By.XPATH, '//h2[@class=\"css-1pd07ge-unf-heading e1qvo2ff2\"]')\n",
    "        nama_daerah = h2_daerah.find_elements(By.CSS_SELECTOR, 'b')[0].text\n",
    "    except:\n",
    "        nama_daerah = 'Unknown/Dilayani Tokopedia'\n",
    "\n",
    "    dct_data['daerah_toko'].append(nama_daerah)\n",
    "\n",
    "    # Terjual Data\n",
    "    try:\n",
    "        p_sold = driver.find_element(By.XPATH, '//p[@data-testid=\"lblPDPDetailProductSoldCounter\"]')\n",
    "        sold_val = int(re.sub(r'\\D', '', p_sold.text)) \n",
    "        if 'rb' in p_sold.text:\n",
    "            sold_val = sold_val * 1000\n",
    "    except:\n",
    "        sold_val = 0\n",
    "\n",
    "    dct_data['jumlah_terjual'].append(sold_val)\n",
    "    \n",
    "    # Stok Data\n",
    "    stok_total = 0\n",
    "    try:\n",
    "        div_variant = driver.find_element(By.XPATH, '//div[@class=\"css-1b2d3hk\"]')\n",
    "        parent_level_div = div_variant.find_elements(By.CSS_SELECTOR, 'div')\n",
    "        all_level_div = [x for x in parent_level_div if x.get_attribute('class')=='css-hayuji']\n",
    "\n",
    "        len_level1 = len(all_level_div[0].find_elements(By.CSS_SELECTOR, 'button'))\n",
    "\n",
    "        stok_total = 0\n",
    "        for el_level1 in all_level_div[0].find_elements(By.CSS_SELECTOR, 'button'):\n",
    "            el_level1.click()\n",
    "\n",
    "            if len(all_level_div) >= 2:\n",
    "                for el_level2 in all_level_div[1].find_elements(By.CSS_SELECTOR, 'button'):\n",
    "                    el_level2.click()\n",
    "                    p_stok = driver.find_element(By.XPATH, '//p[@class=\"css-1yy88m3-unf-heading e1qvo2ff8\"]')\n",
    "                    stok_total = stock_finder(p_stok, stok_total)\n",
    "\n",
    "            else:\n",
    "                p_stok = driver.find_element(By.XPATH, '//p[@class=\"css-1yy88m3-unf-heading e1qvo2ff8\"]')\n",
    "                stok_total = stock_finder(p_stok, stok_total)\n",
    "    except:\n",
    "        p_stok = driver.find_element(By.XPATH, '//p[@class=\"css-1yy88m3-unf-heading e1qvo2ff8\"]')\n",
    "        stok_total = stock_finder(p_stok, stok_total)\n",
    "    \n",
    "\n",
    "    dct_data['stok_tersisa'].append(stok_total)\n",
    "    "
   ]
  },
  {
   "cell_type": "code",
   "execution_count": 45,
   "metadata": {},
   "outputs": [],
   "source": [
    "index_stopped = counter"
   ]
  },
  {
   "cell_type": "code",
   "execution_count": 46,
   "metadata": {},
   "outputs": [
    {
     "data": {
      "text/plain": [
       "{'nama_toko': ['Vherkudara Official',\n",
       "  'Shery Official Shop',\n",
       "  'NESZ_leather',\n",
       "  'AndreasLukitaShop'],\n",
       " 'daerah_toko': ['Kab. Sleman',\n",
       "  'Jakarta Pusat',\n",
       "  'Jakarta Utara',\n",
       "  'Jakarta Utara'],\n",
       " 'jumlah_terjual': [30, 1000, 4000, 5000],\n",
       " 'stok_tersisa': [8, 3207, 104, 1211]}"
      ]
     },
     "execution_count": 46,
     "metadata": {},
     "output_type": "execute_result"
    }
   ],
   "source": [
    "dct_data"
   ]
  },
  {
   "cell_type": "code",
   "execution_count": 48,
   "metadata": {},
   "outputs": [],
   "source": [
    "df['stok_tersisa'] = dct_data['stok_tersisa']\n",
    "df['daerah_toko'] = dct_data['daerah_toko']\n",
    "df['nama_toko'] = dct_data['nama_toko']"
   ]
  },
  {
   "cell_type": "code",
   "execution_count": 56,
   "metadata": {},
   "outputs": [
    {
     "name": "stdout",
     "output_type": "stream",
     "text": [
      "2022-07-31\n"
     ]
    }
   ],
   "source": [
    "from datetime import datetime, timedelta\n",
    "\n",
    "# Get the current date and time\n",
    "now = datetime.now()\n",
    "\n",
    "# Subtract one year (approximate by subtracting 365 days)\n",
    "one_year_ago = now - timedelta(days=731)\n",
    "\n",
    "# Format the date as a string in the desired format\n",
    "date_string = one_year_ago.strftime(\"%Y-%m-%d\")\n",
    "\n",
    "print(date_string)"
   ]
  },
  {
   "cell_type": "code",
   "execution_count": 57,
   "metadata": {},
   "outputs": [],
   "source": [
    "df['created_at'] = date_string"
   ]
  },
  {
   "cell_type": "code",
   "execution_count": 58,
   "metadata": {},
   "outputs": [
    {
     "data": {
      "text/html": [
       "<div>\n",
       "<style scoped>\n",
       "    .dataframe tbody tr th:only-of-type {\n",
       "        vertical-align: middle;\n",
       "    }\n",
       "\n",
       "    .dataframe tbody tr th {\n",
       "        vertical-align: top;\n",
       "    }\n",
       "\n",
       "    .dataframe thead th {\n",
       "        text-align: right;\n",
       "    }\n",
       "</style>\n",
       "<table border=\"1\" class=\"dataframe\">\n",
       "  <thead>\n",
       "    <tr style=\"text-align: right;\">\n",
       "      <th></th>\n",
       "      <th>index</th>\n",
       "      <th>Nama</th>\n",
       "      <th>Harga</th>\n",
       "      <th>Link</th>\n",
       "      <th>category</th>\n",
       "      <th>gender</th>\n",
       "      <th>stok_tersisa</th>\n",
       "      <th>daerah_toko</th>\n",
       "      <th>nama_toko</th>\n",
       "      <th>created_at</th>\n",
       "    </tr>\n",
       "  </thead>\n",
       "  <tbody>\n",
       "    <tr>\n",
       "      <th>1</th>\n",
       "      <td>1</td>\n",
       "      <td>FRAME KACAMATA VHERKUDARA KHUMA</td>\n",
       "      <td>944000</td>\n",
       "      <td>https://ta.tokopedia.com/promo/v1/clicks/8a-xg...</td>\n",
       "      <td>aksesoris_pria</td>\n",
       "      <td>pria</td>\n",
       "      <td>8</td>\n",
       "      <td>Kab. Sleman</td>\n",
       "      <td>Vherkudara Official</td>\n",
       "      <td>2022-07-31</td>\n",
       "    </tr>\n",
       "    <tr>\n",
       "      <th>2</th>\n",
       "      <td>2</td>\n",
       "      <td>SHERY Nosepad Kacamata Bantalan Penyangga Hidu...</td>\n",
       "      <td>12900</td>\n",
       "      <td>https://ta.tokopedia.com/promo/v1/clicks/8a-xg...</td>\n",
       "      <td>aksesoris_pria</td>\n",
       "      <td>pria</td>\n",
       "      <td>3207</td>\n",
       "      <td>Jakarta Pusat</td>\n",
       "      <td>Shery Official Shop</td>\n",
       "      <td>2022-07-31</td>\n",
       "    </tr>\n",
       "    <tr>\n",
       "      <th>3</th>\n",
       "      <td>3</td>\n",
       "      <td>GESPER GASPER BELT IKAT PINGGANG KULIT PRIA AS...</td>\n",
       "      <td>150000</td>\n",
       "      <td>https://ta.tokopedia.com/promo/v1/clicks/8a-xg...</td>\n",
       "      <td>aksesoris_pria</td>\n",
       "      <td>pria</td>\n",
       "      <td>104</td>\n",
       "      <td>Jakarta Utara</td>\n",
       "      <td>NESZ_leather</td>\n",
       "      <td>2022-07-31</td>\n",
       "    </tr>\n",
       "    <tr>\n",
       "      <th>4</th>\n",
       "      <td>4</td>\n",
       "      <td>Ikat Pinggang Pria Gesper Nylon Canvas Sabuk</td>\n",
       "      <td>110000</td>\n",
       "      <td>https://ta.tokopedia.com/promo/v1/clicks/8a-xg...</td>\n",
       "      <td>aksesoris_pria</td>\n",
       "      <td>pria</td>\n",
       "      <td>1211</td>\n",
       "      <td>Jakarta Utara</td>\n",
       "      <td>AndreasLukitaShop</td>\n",
       "      <td>2022-07-31</td>\n",
       "    </tr>\n",
       "  </tbody>\n",
       "</table>\n",
       "</div>"
      ],
      "text/plain": [
       "   index                                               Nama   Harga  \\\n",
       "1      1                    FRAME KACAMATA VHERKUDARA KHUMA  944000   \n",
       "2      2  SHERY Nosepad Kacamata Bantalan Penyangga Hidu...   12900   \n",
       "3      3  GESPER GASPER BELT IKAT PINGGANG KULIT PRIA AS...  150000   \n",
       "4      4       Ikat Pinggang Pria Gesper Nylon Canvas Sabuk  110000   \n",
       "\n",
       "                                                Link        category gender  \\\n",
       "1  https://ta.tokopedia.com/promo/v1/clicks/8a-xg...  aksesoris_pria   pria   \n",
       "2  https://ta.tokopedia.com/promo/v1/clicks/8a-xg...  aksesoris_pria   pria   \n",
       "3  https://ta.tokopedia.com/promo/v1/clicks/8a-xg...  aksesoris_pria   pria   \n",
       "4  https://ta.tokopedia.com/promo/v1/clicks/8a-xg...  aksesoris_pria   pria   \n",
       "\n",
       "   stok_tersisa    daerah_toko            nama_toko  created_at  \n",
       "1             8    Kab. Sleman  Vherkudara Official  2022-07-31  \n",
       "2          3207  Jakarta Pusat  Shery Official Shop  2022-07-31  \n",
       "3           104  Jakarta Utara         NESZ_leather  2022-07-31  \n",
       "4          1211  Jakarta Utara    AndreasLukitaShop  2022-07-31  "
      ]
     },
     "execution_count": 58,
     "metadata": {},
     "output_type": "execute_result"
    }
   ],
   "source": [
    "df"
   ]
  },
  {
   "cell_type": "code",
   "execution_count": 59,
   "metadata": {},
   "outputs": [
    {
     "name": "stdout",
     "output_type": "stream",
     "text": [
      "<class 'pandas.core.frame.DataFrame'>\n",
      "Index: 4 entries, 1 to 4\n",
      "Data columns (total 10 columns):\n",
      " #   Column        Non-Null Count  Dtype \n",
      "---  ------        --------------  ----- \n",
      " 0   index         4 non-null      int64 \n",
      " 1   Nama          4 non-null      object\n",
      " 2   Harga         4 non-null      int64 \n",
      " 3   Link          4 non-null      object\n",
      " 4   category      4 non-null      object\n",
      " 5   gender        4 non-null      object\n",
      " 6   stok_tersisa  4 non-null      int64 \n",
      " 7   daerah_toko   4 non-null      object\n",
      " 8   nama_toko     4 non-null      object\n",
      " 9   created_at    4 non-null      object\n",
      "dtypes: int64(3), object(7)\n",
      "memory usage: 524.0+ bytes\n"
     ]
    }
   ],
   "source": [
    "df.info()"
   ]
  },
  {
   "cell_type": "code",
   "execution_count": 61,
   "metadata": {},
   "outputs": [],
   "source": [
    "from google.cloud import storage\n",
    "import os\n",
    "import tempfile\n",
    "\n",
    "# Set up Google Cloud Storage client\n",
    "os.environ[\"GOOGLE_APPLICATION_CREDENTIALS\"] = \"datahub-project-430801-c216773b2d70.json\"\n",
    "client = storage.Client()"
   ]
  },
  {
   "cell_type": "code",
   "execution_count": 63,
   "metadata": {},
   "outputs": [
    {
     "name": "stdout",
     "output_type": "stream",
     "text": [
      "File /var/folders/dj/snpp_k5j5tn5sz1sjr3_bh6h0000gn/T/tmp6lq7w6jn.csv uploaded to result_data/atasan_pria_2022-07-31.csv.\n"
     ]
    }
   ],
   "source": [
    "# Use tempfile to create a temporary file\n",
    "with tempfile.NamedTemporaryFile(suffix='.csv') as tmp:\n",
    "    local_file_path = tmp.name\n",
    "    df.to_csv(local_file_path, index=False)\n",
    "\n",
    "    # Define the GCS bucket and blob (file) name\n",
    "    bucket_name = 'data_scrap_azhar'\n",
    "    destination_blob_name = f'result_data/atasan_pria_{date_string}.csv'\n",
    "\n",
    "    # Upload the file to GCS\n",
    "    bucket = client.bucket(bucket_name)\n",
    "    blob = bucket.blob(destination_blob_name)\n",
    "    blob.upload_from_filename(local_file_path)\n",
    "\n",
    "    print(f'File {local_file_path} uploaded to {destination_blob_name}.')\n"
   ]
  },
  {
   "cell_type": "code",
   "execution_count": null,
   "metadata": {},
   "outputs": [],
   "source": []
  }
 ],
 "metadata": {
  "kernelspec": {
   "display_name": "Python 3",
   "language": "python",
   "name": "python3"
  },
  "language_info": {
   "codemirror_mode": {
    "name": "ipython",
    "version": 3
   },
   "file_extension": ".py",
   "mimetype": "text/x-python",
   "name": "python",
   "nbconvert_exporter": "python",
   "pygments_lexer": "ipython3",
   "version": "3.9.6"
  }
 },
 "nbformat": 4,
 "nbformat_minor": 2
}
